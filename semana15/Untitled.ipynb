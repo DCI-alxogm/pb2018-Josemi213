{
 "cells": [
  {
   "cell_type": "code",
   "execution_count": 21,
   "metadata": {},
   "outputs": [],
   "source": [
    "import numpy as np\n",
    "import matplotlib.pyplot as plt\n",
    "from scipy.constants import h, k, c\n",
    "%matplotlib inline"
   ]
  },
  {
   "cell_type": "code",
   "execution_count": 22,
   "metadata": {},
   "outputs": [
    {
     "name": "stdout",
     "output_type": "stream",
     "text": [
      "6.62607004e-34\n",
      "1.38064852e-23\n",
      "299792458.0\n"
     ]
    }
   ],
   "source": [
    "print h\n",
    "print k\n",
    "print c"
   ]
  },
  {
   "cell_type": "code",
   "execution_count": 25,
   "metadata": {},
   "outputs": [],
   "source": [
    "Info = np.loadtxt(\"IRCF.txt\")"
   ]
  },
  {
   "cell_type": "code",
   "execution_count": 26,
   "metadata": {},
   "outputs": [],
   "source": [
    "#Esta función graficará todas las aproximaciones hechas con la ley de planck, ademas de los datos\n",
    "#medidos experimental mente del fondo cosmico de microndas, con su incertidumbre\n",
    "def grafica(b, a):\n",
    "    #Creamos la figura, de tamaño deseado\n",
    "    f = plt.figure(figsize=(12,12))\n",
    "    ceros = np.zeros(N)\n",
    "    \n",
    "    #Creamos la primera subgrafica, la cual tendra el CMB y las aproximaciones\n",
    "    ax1 = f.add_subplot(211)\n",
    "    ax1.set_title('Fondo cosmico de microondas')\n",
    "    ax1.scatter(puntos[0], puntos[1])\n",
    "    for i in range (a):\n",
    "        ax1.plot(puntos[0], b[i])\n",
    "    ax1.grid()\n",
    "    ax1.set_ylabel('Intensidad (MJy/sr)')\n",
    "    ax1.set_xlabel('Frecuencia (1/cm)')\n",
    "    \n",
    "    #Esta segunda grafica tiene las incertidumbres del CMD\n",
    "    ax2 = f.add_subplot(212)\n",
    "    ax2.set_title('Incertidumbre de los datos medidos experimentalmente')\n",
    "    ax2.errorbar(puntos[0], ceros, puntos[3]/1000)\n",
    "    ax2.grid()\n",
    "    ax2.set_xlabel('Frecuencia (1/cm)')\n",
    "    ax2.set_ylabel('Incertidumbre (MJy/sr)')\n",
    "    \n",
    "    return"
   ]
  },
  {
   "cell_type": "code",
   "execution_count": null,
   "metadata": {},
   "outputs": [],
   "source": []
  },
  {
   "cell_type": "code",
   "execution_count": null,
   "metadata": {},
   "outputs": [],
   "source": []
  },
  {
   "cell_type": "code",
   "execution_count": null,
   "metadata": {},
   "outputs": [],
   "source": []
  },
  {
   "cell_type": "code",
   "execution_count": null,
   "metadata": {},
   "outputs": [],
   "source": []
  },
  {
   "cell_type": "code",
   "execution_count": null,
   "metadata": {},
   "outputs": [],
   "source": []
  },
  {
   "cell_type": "code",
   "execution_count": null,
   "metadata": {},
   "outputs": [],
   "source": []
  }
 ],
 "metadata": {
  "kernelspec": {
   "display_name": "Python 2",
   "language": "python",
   "name": "python2"
  },
  "language_info": {
   "codemirror_mode": {
    "name": "ipython",
    "version": 2
   },
   "file_extension": ".py",
   "mimetype": "text/x-python",
   "name": "python",
   "nbconvert_exporter": "python",
   "pygments_lexer": "ipython2",
   "version": "2.7.15"
  }
 },
 "nbformat": 4,
 "nbformat_minor": 2
}
